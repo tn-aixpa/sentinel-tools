{
 "cells": [
  {
   "cell_type": "markdown",
   "id": "d470c258",
   "metadata": {},
   "source": [
    "# TODO GO to KRM and create a volume first with name \"volume-sentinel\"\n",
    "\n",
    "In krm create first a volume otherwise the RUN is stuck waiting for the volume\n",
    "persisten_volume_claim specs:\n",
    "- volume_name : volume-sentinel # this name is to be equal to the \"name parameter inside volumes during the run of the function\"\n",
    "- space : 15Gbi\n",
    "- storage_class_name: #disk\n",
    "- access_mode: readWriteOnce\n",
    "\n",
    "If you have any doubts on the params check the README.md inside https://github.com/tn-aixpa/sentinel-tools "
   ]
  },
  {
   "cell_type": "code",
   "execution_count": 1,
   "id": "22976efc-003a-4170-bcf0-6a33ac84e76a",
   "metadata": {},
   "outputs": [],
   "source": [
    "import digitalhub as dh\n",
    "# conda install -c conda-forge gdal\n",
    "PROJECT_NAME = \"docker-sentinel\"\n",
    "proj = dh.get_or_create_project(PROJECT_NAME) # source=\"git://github.com/scc-digitalhu"
   ]
  },
  {
   "cell_type": "code",
   "execution_count": null,
   "id": "cbb91e46",
   "metadata": {},
   "outputs": [],
   "source": [
    "# THIS NEED TO BE EXECUTED JUST ONCE\n",
    "secret0 = proj.new_secret(name=\"CDSETOOL_ESA_USER\", secret_value=\"esa_username\")\n",
    "secret1 = proj.new_secret(name=\"CDSETOOL_ESA_PASSWORD\", secret_value=\"esa_password\")"
   ]
  },
  {
   "cell_type": "code",
   "execution_count": null,
   "id": "c29a5684-050b-4cf4-989c-6261ec51934e",
   "metadata": {},
   "outputs": [],
   "source": [
    "string_dict_data = \"\"\"{\n",
    "  'satelliteParams':{\n",
    "      'satelliteType': 'Sentinel1',\n",
    "      'processingLevel': 'LEVEL1',\n",
    "      'sensorMode': 'IW',\n",
    "      'productType': 'SLC'\n",
    "  } ,\n",
    "  'startDate': '2023-12-12',\n",
    "  'endDate': '2023-12-13',\n",
    "  'geometry': 'POLYGON((10.98014831542969 45.455314263477874,11.030273437500002 45.44808893044964,10.99937438964844 45.42014226680115,10.953025817871096 45.435803739956725,10.98014831542969 45.455314263477874))',\n",
    "  'area_sampling': 'True',\n",
    "  'tmp_path_same_folder_dwl':'True',\n",
    "  'artifact_name': 'directory_name_inside_s3',\n",
    "  's3_path': 's3://{my-bucket}/{path_to_artifact}/'\n",
    "  }\"\"\"\n",
    "\n",
    "# s3 path is not mandatory\n",
    "\n",
    "list_args =  [\"main.py\",string_dict_data]\n",
    "function = proj.new_function(\"donwload\",kind=\"container\",image=\"alattaruolo/sentinel-basic:v0.0.23\",command=\"python\",args=list_args)"
   ]
  },
  {
   "cell_type": "code",
   "execution_count": null,
   "id": "8397e0d0",
   "metadata": {},
   "outputs": [],
   "source": [
    "run = function.run(action=\"job\",\n",
    "secrets=[\"CDSETOOL_ESA_USER\",\"CDSETOOL_ESA_PASSWORD\"],\n",
    "#envs=[{\"name\":\"CDSETOOL_ESA_USER\",\"value\":\"esa_user\"},{\"name\":\"CDSETOOL_ESA_PASSWORD\",\"value\":\"esa_password\"}],\n",
    "volumes=[{\n",
    "    \"volume_type\": \"persistent_volume_claim\",\n",
    "    \n",
    "    \"name\": \"volume-sentinel\", # this name has to be equal to the name of the volume created in krm\n",
    "    \"mount_path\": \"/files\",\n",
    "    \"spec\": {\n",
    "        \"claim_name\": \"volume-sentinel\"\n",
    "    }}],)"
   ]
  },
  {
   "cell_type": "code",
   "execution_count": 9,
   "id": "db977be4-2fd8-44e7-a856-223eb97b3445",
   "metadata": {},
   "outputs": [],
   "source": [
    "# import os\n",
    "# def create_json_from_env():\n",
    "#     result = {}\n",
    "#     result['PROJECT_NAME'] = os.environ[\"PROJECT_NAME\"]\n",
    "#     result['S3_BUCKET_NAME'] = os.environ[\"S3_BUCKET_NAME\"]\n",
    "#     result['S3_ENDPOINT_URL'] = os.environ[\"S3_ENDPOINT_URL\"]\n",
    "#     result['DIGITALHUB_CORE_ENDPOINT'] = os.environ[\"DIGITALHUB_CORE_ENDPOINT\"]\n",
    "#     result['AWS_ACCESS_KEY_ID'] = os.environ[\"AWS_ACCESS_KEY_ID\"]\n",
    "#     result['AWS_SECRET_ACCESS_KEY'] = os.environ[\"AWS_SECRET_ACCESS_KEY\"]\n",
    "#     return result"
   ]
  },
  {
   "cell_type": "code",
   "execution_count": null,
   "id": "ac639af6",
   "metadata": {},
   "outputs": [],
   "source": [
    "# create_json_from_env()"
   ]
  }
 ],
 "metadata": {
  "kernelspec": {
   "display_name": "Python 3 (ipykernel)",
   "language": "python",
   "name": "python3"
  },
  "language_info": {
   "codemirror_mode": {
    "name": "ipython",
    "version": 3
   },
   "file_extension": ".py",
   "mimetype": "text/x-python",
   "name": "python",
   "nbconvert_exporter": "python",
   "pygments_lexer": "ipython3",
   "version": "3.9.13"
  }
 },
 "nbformat": 4,
 "nbformat_minor": 5
}
