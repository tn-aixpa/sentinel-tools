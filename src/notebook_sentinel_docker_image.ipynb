{
 "cells": [
  {
   "cell_type": "markdown",
   "id": "d470c258",
   "metadata": {},
   "source": [
    "# TODO GO to KRM and create a volume first with name \"volume-sentinel\"\n",
    "\n",
    "In krm create first a volume otherwise the RUN is stuck waiting for the volume\n",
    "persisten_volume_claim specs:\n",
    "- volume_name : volume-sentinel # this name is to be equal to the \"name parameter inside volumes during the run of the function\"\n",
    "- space : 15Gbi\n",
    "- storage_class_name: #disk\n",
    "- access_mode: readWriteOnce\n",
    "\n",
    "If you have any doubts on the params check the README.md inside https://github.com/tn-aixpa/sentinel-tools "
   ]
  },
  {
   "cell_type": "code",
   "execution_count": 1,
   "id": "22976efc-003a-4170-bcf0-6a33ac84e76a",
   "metadata": {},
   "outputs": [],
   "source": [
    "import digitalhub as dh\n",
    "# conda install -c conda-forge gdal\n",
    "PROJECT_NAME = \"docker-sentinel\"\n",
    "proj = dh.get_or_create_project(PROJECT_NAME) # source=\"git://github.com/scc-digitalhu"
   ]
  },
  {
   "cell_type": "code",
   "execution_count": null,
   "id": "cbb91e46",
   "metadata": {},
   "outputs": [],
   "source": [
    "# THIS NEED TO BE EXECUTED JUST ONCE\n",
    "secret0 = proj.new_secret(name=\"CDSETOOL_ESA_USER\", secret_value=\"esa_username\")\n",
    "secret1 = proj.new_secret(name=\"CDSETOOL_ESA_PASSWORD\", secret_value=\"esa_password\")"
   ]
  },
  {
   "cell_type": "markdown",
   "id": "e538a040",
   "metadata": {},
   "source": [
    "### Sentinel 1"
   ]
  },
  {
   "cell_type": "code",
   "execution_count": null,
   "id": "c29a5684-050b-4cf4-989c-6261ec51934e",
   "metadata": {},
   "outputs": [],
   "source": [
    "string_dict_data = \"\"\"{\n",
    "  'satelliteParams':{\n",
    "      'satelliteType': 'Sentinel1',\n",
    "      'processingLevel': 'LEVEL1',\n",
    "      'sensorMode': 'IW',\n",
    "      'productType': 'SLC'\n",
    "  } ,\n",
    "  'startDate': '2023-12-12',\n",
    "  'endDate': '2023-12-13',\n",
    "  'geometry': 'POLYGON((10.98014831542969 45.455314263477874,11.030273437500002 45.44808893044964,10.99937438964844 45.42014226680115,10.953025817871096 45.435803739956725,10.98014831542969 45.455314263477874))',\n",
    "  'area_sampling': 'True',\n",
    "  'tmp_path_same_folder_dwl':'True',\n",
    "  'artifact_name': 'sentinel1_all'\n",
    "  }\"\"\"\n",
    "\n",
    "# s3 path is not mandatory\n",
    "\n",
    "list_args =  [\"main.py\",string_dict_data]\n",
    "function_s1 = proj.new_function(\"download_images_s1\",kind=\"container\",image=\"ghcr.io/tn-aixpa/sentinel-tools:0.10.0\",command=\"python\")"
   ]
  },
  {
   "cell_type": "code",
   "execution_count": null,
   "id": "8397e0d0",
   "metadata": {},
   "outputs": [],
   "source": [
    "run = function_s1.run(action=\"job\",\n",
    "        secrets=[\"CDSETOOL_ESA_USER\",\"CDSETOOL_ESA_PASSWORD\"],\n",
    "        fsGroup='8877',\n",
    "        args=list_args,           \n",
    "        volumes=[{\n",
    "            \"volume_type\": \"persistent_volume_claim\",            \n",
    "            \"name\": \"volume-sentinel\", # this name has to be equal to the name of the volume created in krm\n",
    "            \"mount_path\": \"/files\",\n",
    "            \"spec\": {\n",
    "                \"claim_name\": \"volume-sentinel\"\n",
    "    }}],)"
   ]
  },
  {
   "cell_type": "markdown",
   "id": "29a61c81",
   "metadata": {},
   "source": [
    "### Sentinel 2"
   ]
  },
  {
   "cell_type": "code",
   "execution_count": null,
   "id": "c49ced7c",
   "metadata": {},
   "outputs": [],
   "source": [
    "string_dict_data = \"\"\"{\n",
    " \"satelliteParams\":{\n",
    "     \"satelliteType\": \"Sentinel2\",\n",
    "\t \"bandmath\": [\"NDVI\",\"EVI\",\"NDWI\",\"NDSI\",\"NBR\"]\t \n",
    " },\n",
    " \"startDate\": \"2023-12-12\",\n",
    " \"endDate\": \"2023-12-30\",\n",
    " \"geometry\": \"POLYGON((10.98014831542969 45.455314263477874,11.030273437500002 45.44808893044964,10.99937438964844 45.42014226680115,10.953025817871096 45.435803739956725,10.98014831542969 45.455314263477874))\",\n",
    " \"area_sampling\": \"true\",\n",
    " \"artifact_name\": \"sentinel2-all\" \n",
    " }\"\"\"\n",
    "\n",
    "list_args =  [\"main.py\",string_dict_data]\n",
    "function_s2 = proj.new_function(\"download_images_s2\",kind=\"container\",image=\"ghcr.io/tn-aixpa/sentinel-tools:0.10.0\",command=\"python\")"
   ]
  },
  {
   "cell_type": "code",
   "execution_count": null,
   "id": "a3c0cfdf",
   "metadata": {},
   "outputs": [],
   "source": [
    "run = function_s2.run(action=\"job\",\n",
    "        secrets=[\"CDSETOOL_ESA_USER\",\"CDSETOOL_ESA_PASSWORD\"],\n",
    "        fsGroup='8877',\n",
    "        args=list_args,           \n",
    "        volumes=[{\n",
    "            \"volume_type\": \"persistent_volume_claim\",            \n",
    "            \"name\": \"volume-sentinel\", # this name has to be equal to the name of the volume created in krm\n",
    "            \"mount_path\": \"/files\",\n",
    "            \"spec\": {\n",
    "                \"claim_name\": \"volume-sentinel\"\n",
    "    }}],)"
   ]
  }
 ],
 "metadata": {
  "kernelspec": {
   "display_name": "Python 3 (ipykernel)",
   "language": "python",
   "name": "python3"
  },
  "language_info": {
   "codemirror_mode": {
    "name": "ipython",
    "version": 3
   },
   "file_extension": ".py",
   "mimetype": "text/x-python",
   "name": "python",
   "nbconvert_exporter": "python",
   "pygments_lexer": "ipython3",
   "version": "3.9.13"
  }
 },
 "nbformat": 4,
 "nbformat_minor": 5
}
